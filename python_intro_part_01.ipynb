{
 "cells": [
  {
   "cell_type": "markdown",
   "metadata": {},
   "source": [
    "# Learning to program with python\n",
    "\n",
    " ressources\n",
    " - http://www.scipy.org/topical-software.html\n",
    "\n",
    " ipython notebooks, and latex magic\n",
    "\n",
    " python is a popular XXth generation programming language\n",
    " Pro: \n",
    " - it's a \"real\" language \n",
    " - that gives developers slack: \"multiparadigm\" OO, procedural, functional programming styles\n",
    " - efficient language: get stuff done with few lines \n",
    " - readable \n",
    " - popular in the scientific community\n",
    " - modules offer advanced algebraic, graphics, ... capabilities \n",
    " - dynamically typed \n",
    " - automatic memory management\n",
    " - open source, free \n",
    "\n",
    "\n",
    " Contra: \n",
    " - speed\n",
    " - many independent developers, thus heterogeneous modules and conventions\n",
    " - dynamically typed \n",
    " - little used in mobile computing \n",
    "\n",
    " components\n",
    " - kernel \n",
    " - integrated development environment (IDE)\n",
    "\n"
   ]
  },
  {
   "cell_type": "markdown",
   "metadata": {},
   "source": [
    "### python is a pocket calculator\n"
   ]
  },
  {
   "cell_type": "code",
   "execution_count": 13,
   "metadata": {
    "collapsed": false
   },
   "outputs": [
    {
     "data": {
      "text/plain": [
       "15"
      ]
     },
     "execution_count": 13,
     "metadata": {},
     "output_type": "execute_result"
    }
   ],
   "source": [
    "5*3  # int "
   ]
  },
  {
   "cell_type": "code",
   "execution_count": 14,
   "metadata": {
    "collapsed": false
   },
   "outputs": [
    {
     "data": {
      "text/plain": [
       "15.0"
      ]
     },
     "execution_count": 14,
     "metadata": {},
     "output_type": "execute_result"
    }
   ],
   "source": [
    "5*3. # float "
   ]
  },
  {
   "cell_type": "code",
   "execution_count": 15,
   "metadata": {
    "collapsed": false
   },
   "outputs": [
    {
     "data": {
      "text/plain": [
       "1.6666666666666667"
      ]
     },
     "execution_count": 15,
     "metadata": {},
     "output_type": "execute_result"
    }
   ],
   "source": [
    "5/3  # = 1 if you use python 2.7, = 1.666666... if you use python 3.5"
   ]
  },
  {
   "cell_type": "markdown",
   "metadata": {},
   "source": [
    "### python is a dynamically typed programming language\n",
    "variables are used to store information"
   ]
  },
  {
   "cell_type": "code",
   "execution_count": 16,
   "metadata": {
    "collapsed": false
   },
   "outputs": [
    {
     "data": {
      "text/plain": [
       "(3, 5.0)"
      ]
     },
     "execution_count": 16,
     "metadata": {},
     "output_type": "execute_result"
    }
   ],
   "source": [
    "a = 3 \n",
    "b = 5. \n",
    "a, b"
   ]
  },
  {
   "cell_type": "markdown",
   "metadata": {},
   "source": [
    "now check out the \"variable explorer\" "
   ]
  },
  {
   "cell_type": "markdown",
   "metadata": {},
   "source": [
    "computers use loops to work for us: "
   ]
  },
  {
   "cell_type": "code",
   "execution_count": 17,
   "metadata": {
    "collapsed": false,
    "scrolled": true
   },
   "outputs": [
    {
     "name": "stdout",
     "output_type": "stream",
     "text": [
      "0\n",
      "1\n",
      "2\n",
      "3\n",
      "4\n"
     ]
    }
   ],
   "source": [
    "for i in (0, 1, 2, 3, 4): \n",
    "    print(i)"
   ]
  },
  {
   "cell_type": "markdown",
   "metadata": {},
   "source": [
    " plenty to digest here: \n",
    "\n",
    " The `for` construct loops over elements of a sequence.\n",
    " Variable `i` is iteratively set to all elements of the sequence\n",
    "\n",
    " `(...)` define a \"tuple\", an immutable object \n",
    "\n",
    " A colon `:` is needed. Why? Guido van Rossum, BDFL, argues \n",
    " - that it helps readability, making the code sound \"more English\"\n",
    " - that it makes life easier for context-aware editors. \n",
    "\n",
    " In python, **indentation matters** -- four spaces for each level of nestedness"
   ]
  },
  {
   "cell_type": "code",
   "execution_count": 20,
   "metadata": {
    "collapsed": false
   },
   "outputs": [
    {
     "name": "stdout",
     "output_type": "stream",
     "text": [
      "1\n",
      "1\n",
      "2\n",
      "4\n",
      "3\n",
      "9\n"
     ]
    }
   ],
   "source": [
    "for i in (1, 2, 3): \n",
    "    print(i)\n",
    "    print(i**2) # exponentiation"
   ]
  },
  {
   "cell_type": "markdown",
   "metadata": {},
   "source": [
    "is different from "
   ]
  },
  {
   "cell_type": "code",
   "execution_count": 21,
   "metadata": {
    "collapsed": false
   },
   "outputs": [
    {
     "name": "stdout",
     "output_type": "stream",
     "text": [
      "1\n",
      "2\n",
      "3\n",
      "9\n"
     ]
    }
   ],
   "source": [
    "for i in (1, 2, 3): \n",
    "    print(i)\n",
    "print(i**2) # exponentiation"
   ]
  },
  {
   "cell_type": "markdown",
   "metadata": {},
   "source": [
    "for bigger loops, define range as follows: "
   ]
  },
  {
   "cell_type": "code",
   "execution_count": 23,
   "metadata": {
    "collapsed": false
   },
   "outputs": [
    {
     "name": "stdout",
     "output_type": "stream",
     "text": [
      "0 0 0\n",
      "1 1 1\n",
      "2 4 8\n",
      "3 9 27\n",
      "4 16 64\n"
     ]
    }
   ],
   "source": [
    "for i in range(5): # note: we get five elements, but starting at zero!\n",
    "    print(i, i**2, i**3)  "
   ]
  },
  {
   "cell_type": "code",
   "execution_count": 25,
   "metadata": {
    "collapsed": false
   },
   "outputs": [
    {
     "name": "stdout",
     "output_type": "stream",
     "text": [
      "1 1 1\n",
      "3 9 27\n",
      "5 25 125\n"
     ]
    }
   ],
   "source": [
    "# use steps: \n",
    "for i in range(1, 7, 2): #note: arguments of range are inclusive, exclusive, \n",
    "                         #      and step size\n",
    "    print(i, i**2, i**3)  "
   ]
  },
  {
   "cell_type": "markdown",
   "metadata": {},
   "source": [
    "One more word on **print**:"
   ]
  },
  {
   "cell_type": "code",
   "execution_count": 24,
   "metadata": {
    "collapsed": false
   },
   "outputs": [
    {
     "name": "stdout",
     "output_type": "stream",
     "text": [
      "5\n",
      "hello\n",
      "[1, 2, 3, 4, 5]\n"
     ]
    }
   ],
   "source": [
    "print(5)\n",
    "print('hello')\n",
    "print([1,2,3,4,5])"
   ]
  },
  {
   "cell_type": "code",
   "execution_count": 29,
   "metadata": {
    "collapsed": false
   },
   "outputs": [
    {
     "name": "stdout",
     "output_type": "stream",
     "text": [
      "hello 5 [1, 2, 3]\n"
     ]
    }
   ],
   "source": [
    "print('hello', 5, [1,2,3])"
   ]
  },
  {
   "cell_type": "code",
   "execution_count": 31,
   "metadata": {
    "collapsed": false
   },
   "outputs": [
    {
     "name": "stdout",
     "output_type": "stream",
     "text": [
      "this is a 5 with formatting\n"
     ]
    }
   ],
   "source": [
    "print('this is a {} with formatting'.format(5))"
   ]
  },
  {
   "cell_type": "code",
   "execution_count": 30,
   "metadata": {
    "collapsed": false
   },
   "outputs": [
    {
     "name": "stdout",
     "output_type": "stream",
     "text": [
      "this is a 005 with formatting\n"
     ]
    }
   ],
   "source": [
    "print('this is a {:03d} with formatting'.format(5))"
   ]
  },
  {
   "cell_type": "markdown",
   "metadata": {},
   "source": [
    "### Arrays\n",
    "Let's use an array to store a tensor of homogeneous values     "
   ]
  },
  {
   "cell_type": "code",
   "execution_count": 13,
   "metadata": {
    "collapsed": false
   },
   "outputs": [
    {
     "data": {
      "text/plain": [
       "array([[1, 2, 3],\n",
       "       [4, 5, 6]])"
      ]
     },
     "execution_count": 13,
     "metadata": {},
     "output_type": "execute_result"
    }
   ],
   "source": [
    "import numpy as np # We are importing a module. Such lines should really always \n",
    "                   # be at the very top of a script \n",
    "\n",
    "# todo: namespaces\n",
    "a = np.ndarray([5, 3]) # allocate space for an array. \n",
    "b = np.array([ [1,2,3], [4,5,6] ]) # create an array filled with values\n",
    "b"
   ]
  },
  {
   "cell_type": "code",
   "execution_count": 11,
   "metadata": {
    "collapsed": false
   },
   "outputs": [
    {
     "data": {
      "text/plain": [
       "8.0"
      ]
     },
     "execution_count": 11,
     "metadata": {},
     "output_type": "execute_result"
    }
   ],
   "source": [
    "for i in range(5): #note: arguments of range are inclusive, exclusive, and step size\n",
    "    a[i, :] = (i, i**2, i**3)  \n",
    "    \n",
    "a[2]\n",
    "a[2,2]"
   ]
  },
  {
   "cell_type": "code",
   "execution_count": 16,
   "metadata": {
    "collapsed": false
   },
   "outputs": [
    {
     "data": {
      "text/plain": [
       "(2, 3)"
      ]
     },
     "execution_count": 16,
     "metadata": {},
     "output_type": "execute_result"
    }
   ],
   "source": [
    "b.shape # gives us number of rows and columns"
   ]
  },
  {
   "cell_type": "code",
   "execution_count": 17,
   "metadata": {
    "collapsed": false
   },
   "outputs": [
    {
     "data": {
      "text/plain": [
       "array([3, 6])"
      ]
     },
     "execution_count": 17,
     "metadata": {},
     "output_type": "execute_result"
    }
   ],
   "source": [
    "b[:, 2] # note: colon means \"all elements along this axis\". 2 is the last column (zero based index!)"
   ]
  },
  {
   "cell_type": "code",
   "execution_count": 20,
   "metadata": {
    "collapsed": false
   },
   "outputs": [
    {
     "data": {
      "text/plain": [
       "5"
      ]
     },
     "execution_count": 20,
     "metadata": {},
     "output_type": "execute_result"
    }
   ],
   "source": [
    "b[-1, 1] # using negative indices allows you to index from behind. -1 is last row, second value"
   ]
  },
  {
   "cell_type": "markdown",
   "metadata": {},
   "source": [
    "### Conditions\n",
    "What if we want to do different things depending on a condition?"
   ]
  },
  {
   "cell_type": "code",
   "execution_count": 4,
   "metadata": {
    "collapsed": false
   },
   "outputs": [
    {
     "name": "stdout",
     "output_type": "stream",
     "text": [
      "found negative number!\n"
     ]
    }
   ],
   "source": [
    "a = -3\n",
    "if a < 0:\n",
    "    print(\"found negative number!\") #note: strings can be enclosed in single or double quotes\n",
    "else:\n",
    "    print(\"a is non-negative\")"
   ]
  },
  {
   "cell_type": "code",
   "execution_count": 5,
   "metadata": {
    "collapsed": false
   },
   "outputs": [
    {
     "name": "stdout",
     "output_type": "stream",
     "text": [
      "found negative number!\n"
     ]
    }
   ],
   "source": [
    "a = -3\n",
    "if a < 0:\n",
    "    print(\"found negative number!\")\n",
    "elif a == 0:\n",
    "    print(\"found zero\")\n",
    "else:\n",
    "    print(\"a is positive\")"
   ]
  },
  {
   "cell_type": "markdown",
   "metadata": {},
   "source": [
    "Comparison operators are:\n",
    "\n",
    "* relations: `<`, `>`, `<=`, `>=`\n",
    "* equality / inequality: `==`, `!=`\n",
    "* if we want to see whether a value is contained in a sequence/tuple/range: `in`\n",
    "\n",
    "Conditions can be combined and negated:\n",
    "\n",
    "* `not` COND\n",
    "* COND1 `and` COND2\n",
    "* COND1 `or` COND2\n",
    "\n",
    "Parentheses can be used to group conditions logically.\n",
    "\n",
    "Let's try this:"
   ]
  },
  {
   "cell_type": "code",
   "execution_count": 9,
   "metadata": {
    "collapsed": false
   },
   "outputs": [
    {
     "name": "stdout",
     "output_type": "stream",
     "text": [
      "yay\n"
     ]
    }
   ],
   "source": [
    "a = -3\n",
    "b = 17\n",
    "\n",
    "if (not a > 0) and b + a < 20:\n",
    "    print('yay')\n"
   ]
  },
  {
   "cell_type": "markdown",
   "metadata": {},
   "source": [
    "## Functions\n",
    "let us write our own *absolute value* function: $ f(x) = |x| $"
   ]
  },
  {
   "cell_type": "code",
   "execution_count": 32,
   "metadata": {
    "collapsed": true
   },
   "outputs": [],
   "source": [
    "# def defines a function of the following name\n",
    "def absolute(x): # in parantheses are the arguments to the function\n",
    "    print('Called absolute(', x, ')')\n",
    "    if x < 0:\n",
    "        return -x # return defines what the function \n",
    "    else:\n",
    "        return x"
   ]
  },
  {
   "cell_type": "code",
   "execution_count": 33,
   "metadata": {
    "collapsed": false
   },
   "outputs": [
    {
     "name": "stdout",
     "output_type": "stream",
     "text": [
      "Called absolute( -7 )\n"
     ]
    },
    {
     "data": {
      "text/plain": [
       "7"
      ]
     },
     "execution_count": 33,
     "metadata": {},
     "output_type": "execute_result"
    }
   ],
   "source": [
    "absolute(-7)"
   ]
  },
  {
   "cell_type": "markdown",
   "metadata": {},
   "source": [
    "Variables in functions have a **scope** limited to that of the function - but if they do not know a variable they look in the enclosing scope!"
   ]
  },
  {
   "cell_type": "code",
   "execution_count": 35,
   "metadata": {
    "collapsed": false
   },
   "outputs": [
    {
     "name": "stdout",
     "output_type": "stream",
     "text": [
      "Called absolute( 5 )\n"
     ]
    },
    {
     "data": {
      "text/plain": [
       "5"
      ]
     },
     "execution_count": 35,
     "metadata": {},
     "output_type": "execute_result"
    }
   ],
   "source": [
    "x = 12\n",
    "absolute(5)"
   ]
  },
  {
   "cell_type": "code",
   "execution_count": 41,
   "metadata": {
    "collapsed": true
   },
   "outputs": [],
   "source": [
    "def changeMyX():\n",
    "    x = 999 # by assigning a value to x we 'bind' the variable name x to the value 999 within this function's scope.\n",
    "    print(x)"
   ]
  },
  {
   "cell_type": "code",
   "execution_count": 42,
   "metadata": {
    "collapsed": false
   },
   "outputs": [
    {
     "name": "stdout",
     "output_type": "stream",
     "text": [
      "999\n"
     ]
    }
   ],
   "source": [
    "changeMyX()"
   ]
  },
  {
   "cell_type": "code",
   "execution_count": 44,
   "metadata": {
    "collapsed": false
   },
   "outputs": [
    {
     "data": {
      "text/plain": [
       "12"
      ]
     },
     "execution_count": 44,
     "metadata": {},
     "output_type": "execute_result"
    }
   ],
   "source": [
    "x # should be untouched as the function above did have its own x!"
   ]
  },
  {
   "cell_type": "code",
   "execution_count": 46,
   "metadata": {
    "collapsed": true
   },
   "outputs": [],
   "source": [
    "def printMyX():\n",
    "    print(x) # there is no x inside this scope, looks in enclosing scope (=whole script)"
   ]
  },
  {
   "cell_type": "code",
   "execution_count": 47,
   "metadata": {
    "collapsed": false
   },
   "outputs": [
    {
     "name": "stdout",
     "output_type": "stream",
     "text": [
      "12\n"
     ]
    }
   ],
   "source": [
    "printMyX()"
   ]
  },
  {
   "cell_type": "markdown",
   "metadata": {},
   "source": [
    "Functions can be nested"
   ]
  },
  {
   "cell_type": "code",
   "execution_count": 49,
   "metadata": {
    "collapsed": false
   },
   "outputs": [
    {
     "name": "stdout",
     "output_type": "stream",
     "text": [
      "34\n",
      "17\n",
      "12\n"
     ]
    }
   ],
   "source": [
    "x = 12\n",
    "def outerFunc():\n",
    "    x = 17 # define variable in \"outer\"'s scope\n",
    "    def innerFunc(): # define a function inside a function\n",
    "        print(x*2) # accesses outerFunc's x as this is the enclosing scope\n",
    "    innerFunc()\n",
    "    print(x)\n",
    "outerFunc()\n",
    "print(x) # global x should be untouched"
   ]
  },
  {
   "cell_type": "code",
   "execution_count": null,
   "metadata": {
    "collapsed": true
   },
   "outputs": [],
   "source": []
  }
 ],
 "metadata": {
  "kernelspec": {
   "display_name": "Python 3",
   "language": "python",
   "name": "python3"
  },
  "language_info": {
   "codemirror_mode": {
    "name": "ipython",
    "version": 3
   },
   "file_extension": ".py",
   "mimetype": "text/x-python",
   "name": "python",
   "nbconvert_exporter": "python",
   "pygments_lexer": "ipython3",
   "version": "3.5.1"
  }
 },
 "nbformat": 4,
 "nbformat_minor": 0
}
