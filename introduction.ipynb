{
 "cells": [
  {
   "cell_type": "markdown",
   "metadata": {},
   "source": [
    "# What is programming good for?\n",
    "Programming is a way to tell a computer what to do depending on some input.\n",
    "\n",
    "<img src=\"https://upload.wikimedia.org/wikipedia/commons/thumb/9/91/LampFlowchart.svg/2000px-LampFlowchart.svg.png\" width=\"400\">\n",
    "\n",
    "Input could be: mouse/keyboard user interaction, network communication, a file, measurements from some device.\n",
    "This lets us automate tasks that one would not want to do manually:\n",
    "\n",
    "![geeks-vs-nongeeks](https://lh3.googleusercontent.com/-0mb8ktQfQjE/TwU72nysQaI/AAAAAAAAI1g/EVOnQXhQsuM/w530-h378-p-rw/geeks-vs-nongeeks-repetitive-tasks.png)\n",
    "\n",
    "But programming is hard:\n",
    "\n",
    "![Automation](https://imgs.xkcd.com/comics/automation.png)"
   ]
  },
  {
   "cell_type": "markdown",
   "metadata": {},
   "source": [
    "# Let's try this on a simple task (taken from [http://adventofcode.com](http://adventofcode.com))"
   ]
  },
  {
   "cell_type": "markdown",
   "metadata": {},
   "source": [
    "The elves are running low on wrapping paper, and so they need to submit an order for more. They have a list of the dimensions (length l, width w, and height h) of each present, and only want to order exactly as much as they need.\n",
    "\n",
    "Fortunately, every present is a box (a perfect right rectangular prism), which makes calculating the required wrapping paper for each gift a little easier: find the surface area of the box, which is 2*l*w + 2*w*h + 2*h*l. The elves also need a little extra paper for each present: the area of the smallest side.\n",
    "\n",
    "For example:\n",
    "\n",
    "* A present with dimensions 2x3x4 requires 2*6 + 2*12 + 2*8 = 52 square feet of wrapping paper plus 6 square feet of slack, for a total of 58 square feet.\n",
    "* A present with dimensions 1x1x10 requires 2*1 + 2*10 + 2*10 = 42 square feet of wrapping paper plus 1 square foot of slack, for a total of 43 square feet.\n",
    "\n",
    "All numbers in the elves' list are in feet. How many total square feet of wrapping paper should they order?\n",
    "\n",
    "List of boxes: [boxes.txt](https://raw.githubusercontent.com/chaubold/adventofcode/master/boxes.txt)"
   ]
  },
  {
   "cell_type": "code",
   "execution_count": 23,
   "metadata": {
    "collapsed": false
   },
   "outputs": [
    {
     "name": "stdout",
     "output_type": "stream",
     "text": [
      "The summed area is  1606483\n"
     ]
    }
   ],
   "source": [
    "# path to the file on your machine\n",
    "# WINDOWS USERS: backslashes need to be doubled! C:\\\\Users\\\\mypath\\\\boxes.txt\n",
    "# f = open('/path/to/file/boxes.txt', 'r') # 'r' means READ mode\n",
    "f = open('boxes.txt', 'r')\n",
    "\n",
    "summedArea = 0 # this variable will accumulate the areas of all boxes\n",
    "\n",
    "for line in f: # gives each line independently\n",
    "    # print(line)\n",
    "\n",
    "    # split line at the x'es: '14x12x8'.split('x') -> ['14', '12', '8']\n",
    "    # unpack each of the 3 values into its own variable w,h and l\n",
    "    w,h,l = line.split('x')\n",
    "    # transform ('cast') a string to an integral number \n",
    "    w = int(w)\n",
    "    h = int(h)\n",
    "    l = int(l)\n",
    "    \n",
    "    # compute area\n",
    "    area = 2*l*w + 2*w*h + 2*h*l\n",
    "    \n",
    "    # add the area of the smallest side once\n",
    "    area1 = l*w\n",
    "    area2 = l*h\n",
    "    area3 = w*h\n",
    "    if area1 <= area2 and area1 <= area3:\n",
    "        area += area1\n",
    "    elif area2 <= area1 and area2 <= area3:\n",
    "        area += area2\n",
    "    else:\n",
    "        area += area3\n",
    "    \n",
    "    # these two lines do the same thing:\n",
    "    #    summedArea += area \n",
    "    summedArea = summedArea + area\n",
    "\n",
    "print(\"The summed area is \", summedArea)"
   ]
  },
  {
   "cell_type": "markdown",
   "metadata": {},
   "source": [
    "### Part Two - get your hands dirty!\n",
    "\n",
    "The elves are also running low on ribbon. Ribbon is all the same width, so they only have to worry about the length they need to order, which they would again like to be exact.\n",
    "\n",
    "The ribbon required to wrap a present is the shortest distance around its sides, or the smallest perimeter of any one face. Each present also requires a bow made out of ribbon as well; the feet of ribbon required for the perfect bow is equal to the cubic feet of volume of the present. Don't ask how they tie the bow, though; they'll never tell.\n",
    "\n",
    "For example:\n",
    "\n",
    "* A present with dimensions 2x3x4 requires 2+2+3+3 = 10 feet of ribbon to wrap the present plus 2*3*4 = 24 feet of ribbon for the bow, for a total of 34 feet.\n",
    "* A present with dimensions 1x1x10 requires 1+1+1+1 = 4 feet of ribbon to wrap the present plus 1*1*10 = 10 feet of ribbon for the bow, for a total of 14 feet.\n",
    "\n",
    "How many total feet of ribbon should they order?"
   ]
  },
  {
   "cell_type": "code",
   "execution_count": null,
   "metadata": {
    "collapsed": true
   },
   "outputs": [],
   "source": []
  }
 ],
 "metadata": {
  "kernelspec": {
   "display_name": "Python 3",
   "language": "python",
   "name": "python3"
  },
  "language_info": {
   "codemirror_mode": {
    "name": "ipython",
    "version": 3
   },
   "file_extension": ".py",
   "mimetype": "text/x-python",
   "name": "python",
   "nbconvert_exporter": "python",
   "pygments_lexer": "ipython3",
   "version": "3.5.1"
  }
 },
 "nbformat": 4,
 "nbformat_minor": 0
}
