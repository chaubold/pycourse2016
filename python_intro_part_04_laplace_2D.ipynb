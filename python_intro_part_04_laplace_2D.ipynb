{
 "cells": [
  {
   "cell_type": "markdown",
   "metadata": {},
   "source": [
    "# Case study: solving a Dirichlet problem in 2D"
   ]
  },
  {
   "cell_type": "markdown",
   "metadata": {},
   "source": [
    "## Goals\n",
    "* manipulate 2D arrays\n",
    "* reshape arrays\n",
    "* set up a nontrivial system of linear equations\n",
    "* solve a system of linear equations\n",
    "... and finally: \n",
    "* *be able to study the equilibrium state of the heat equation / electric networks / random walkers, and much more*"
   ]
  },
  {
   "cell_type": "markdown",
   "metadata": {},
   "source": [
    "## Physics\n",
    "The heat equation, for homogeneous thermal diffusivity: \n",
    "$$\n",
    "\\frac{\\partial u}{\\partial t} - \\nabla^2 u = 0 \n",
    "$$\n",
    "In the steady state, ${\\partial u}/{\\partial t}$ becomes zero. Then, the sum of the curvatures $\\nabla^2 u = \\partial^2 u / \\partial x_1^2 + \\partial^2 u / \\partial x_2^2 + \\ldots + \\partial^2 u / \\partial x_p^2$ along the $p$ dimensions of the domain must be zero everywhere except at the boundaries of the domain (including those locations where $u$ is pinned so some constant value, e.g. by coupling to an infinite heat bath). \n",
    "\n",
    "This is also called a Dirichlet problem. \n",
    "\n",
    "Assume that our domain is a torus, parametrized in terms of a 2D Cartesian lattice. \n",
    "<img src='https://upload.wikimedia.org/wikipedia/commons/thumb/c/c6/Simple_Torus.svg/500px-Simple_Torus.svg.png' width = '200'>\n",
    "\n",
    "On a 2D Cartesian lattice, the Laplace operator $\\nabla^2$ can be approximated using the stencil \n",
    "```\n",
    "  0  1  0\n",
    "  1 -4  1\n",
    "  0  1  0 \n",
    "```\n",
    "Note that this choice is arbitrary, and other approximations exist. \n",
    "\n",
    "To solve for $u$ with boundary values, we need to set up a linear system of equations\n",
    "$$\n",
    "-Lu = r\n",
    "$$\n",
    "If there are $n$ nodes in our domain, then $L$ is an $n\\times n$ matrix constructed as follows: \n",
    "* each row pertaining to one of the \"clamped\" nodes has a one on the diagonal and zero elsewhere\n",
    "* each row pertaining to a \"free\" node has a +1 in the four columns corresponding to its north / south / east / west neighbors on the Cartesian lattice, and a -4 on the diagonal. All other entries are zero. \n",
    "\n",
    "As to the right-hand side $r$, it has the fixed boundary value in a row that corresponds to a clamped node, and a zero in all other rows. \n",
    "\n"
   ]
  },
  {
   "cell_type": "markdown",
   "metadata": {},
   "source": [
    "## Task\n",
    "Load these <a href='https://github.com/chaubold/pycourse2016/raw/master/bc.npy'>boundary conditions</a> using `numpy.load`, or generate some more to your liking (I used [this](http://www.piskelapp.com)). \n",
    "Solve the Dirichlet problem assuming toroidal boundaries. Plot the boundary conditions, the Laplacian matrix $L$, and the result $u$. "
   ]
  },
  {
   "cell_type": "markdown",
   "metadata": {},
   "source": [
    "## Hints\n",
    "The easy part, in terms of programming, is the actual solution of the linear system of equations. You can use `np.linalg.solve`\n",
    "\n",
    "The hard part is the correct construction of the Laplacian matrix! I proceed as follows: \n",
    "* iterate over all nodes / pixels \n",
    "    * if the current node is \"free\", then \n",
    "        * create the stencil in the spatial domain. I find it easiest to do this by creating an image with a single white pixel, and convolving it with the stencil using in-built routines. This takes care of all corner cases (literally). \n",
    "        * reshape the resulting stencil image to yield a single row of the matrix $L$. \n",
    "    * if the current node is a \"clamped\" node, then set the diagonal element to one. \n",
    "    * initialize the corresponding row of $r$ appropriately. \n",
    "    "
   ]
  }
 ],
 "metadata": {
  "kernelspec": {
   "display_name": "Python 3",
   "language": "python",
   "name": "python3"
  },
  "language_info": {
   "codemirror_mode": {
    "name": "ipython",
    "version": 3
   },
   "file_extension": ".py",
   "mimetype": "text/x-python",
   "name": "python",
   "nbconvert_exporter": "python",
   "pygments_lexer": "ipython3",
   "version": "3.5.1"
  }
 },
 "nbformat": 4,
 "nbformat_minor": 0
}
