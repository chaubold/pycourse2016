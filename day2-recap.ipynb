{
 "cells": [
  {
   "cell_type": "markdown",
   "metadata": {},
   "source": [
    "A couple of notes after looking at yesterday's results:"
   ]
  },
  {
   "cell_type": "code",
   "execution_count": 1,
   "metadata": {
    "collapsed": true
   },
   "outputs": [],
   "source": [
    "import numpy as np"
   ]
  },
  {
   "cell_type": "code",
   "execution_count": 26,
   "metadata": {
    "collapsed": false
   },
   "outputs": [
    {
     "data": {
      "text/plain": [
       "array([ 0.,  0.,  0.,  0.,  0.,  0.,  0.,  0.,  0.,  0.,  0.,  0.])"
      ]
     },
     "execution_count": 26,
     "metadata": {},
     "output_type": "execute_result"
    }
   ],
   "source": [
    "# np.ndarray just takes a bunch of memory and \n",
    "# will from now on use it as array of the given size.\n",
    "# You need to fill it with useful values first!\n",
    "a = np.ndarray(12)\n",
    "a # here we are just lucky that the memory it took contained zeros!"
   ]
  },
  {
   "cell_type": "code",
   "execution_count": 30,
   "metadata": {
    "collapsed": false
   },
   "outputs": [
    {
     "data": {
      "text/plain": [
       "array([ 0.,  0.,  0.,  0.,  0.,  0.,  0.,  0.,  0.,  0.,  0.,  0.])"
      ]
     },
     "execution_count": 30,
     "metadata": {},
     "output_type": "execute_result"
    }
   ],
   "source": [
    "b = np.zeros(12)\n",
    "b"
   ]
  },
  {
   "cell_type": "code",
   "execution_count": 31,
   "metadata": {
    "collapsed": false
   },
   "outputs": [
    {
     "data": {
      "text/plain": [
       "array([ 1.,  1.,  1.,  1.,  1.,  1.,  1.,  1.,  1.,  1.,  1.,  1.])"
      ]
     },
     "execution_count": 31,
     "metadata": {},
     "output_type": "execute_result"
    }
   ],
   "source": [
    "c = np.ones(12)\n",
    "c"
   ]
  },
  {
   "cell_type": "code",
   "execution_count": 32,
   "metadata": {
    "collapsed": false
   },
   "outputs": [
    {
     "data": {
      "text/plain": [
       "array([ 0.51836592,  0.81728169,  0.82662425,  0.78116571,  0.38554844,\n",
       "        0.80489915,  0.64218978,  0.44059752,  0.71647987,  0.34321394,\n",
       "        0.04493703,  0.69608908])"
      ]
     },
     "execution_count": 32,
     "metadata": {},
     "output_type": "execute_result"
    }
   ],
   "source": [
    "d = np.random.rand(12)\n",
    "d"
   ]
  },
  {
   "cell_type": "code",
   "execution_count": 50,
   "metadata": {
    "collapsed": false
   },
   "outputs": [
    {
     "data": {
      "text/plain": [
       "array([ 0,  1,  2,  3,  4,  5,  6,  7,  8,  9, 10, 11])"
      ]
     },
     "execution_count": 50,
     "metadata": {},
     "output_type": "execute_result"
    }
   ],
   "source": [
    "e = np.arange(12)\n",
    "e"
   ]
  },
  {
   "cell_type": "code",
   "execution_count": 51,
   "metadata": {
    "collapsed": false
   },
   "outputs": [
    {
     "data": {
      "text/plain": [
       "numpy.ndarray"
      ]
     },
     "execution_count": 51,
     "metadata": {},
     "output_type": "execute_result"
    }
   ],
   "source": [
    "np.array([1,2,3])"
   ]
  },
  {
   "cell_type": "markdown",
   "metadata": {},
   "source": [
    "**All of the above set up an array that you can immediately use, <br>\n",
    "all but the first also write something into the array**"
   ]
  },
  {
   "cell_type": "markdown",
   "metadata": {},
   "source": [
    "## Code duplication is evil"
   ]
  },
  {
   "cell_type": "code",
   "execution_count": 54,
   "metadata": {
    "collapsed": true
   },
   "outputs": [],
   "source": [
    "def conv(f,g):\n",
    "    if type(f) is not np.ndarray or type(g) is not np.ndarray:\n",
    "        print(\"ungültiger Datentyp\")\n",
    "        return\n",
    "    if len(f.shape) != 1 or len(g.shape) != 1:\n",
    "        print(\"ungültige Dimension\")\n",
    "        return\n",
    "        \n",
    "    s1 = f.shape[0]\n",
    "    s2 = g.shape[0]\n",
    "    \n",
    "    if s1 <= s2:\n",
    "        x = np.zeros(s2)\n",
    "        for n in range(0, s2):\n",
    "            for m in range(0, s1):\n",
    "                x[n] += f[m]*g[n-m]\n",
    "        return x\n",
    "        \n",
    "    elif s1 > s2: #convolution is commutative \n",
    "#         x = np.zeros(s1)\n",
    "#         for n in range(0, s1):\n",
    "#             for m in range(0, s2):\n",
    "#                 x[n] += f[m-n]*g[m]\n",
    "#         return x\n",
    "        return conv(g,f)"
   ]
  },
  {
   "cell_type": "code",
   "execution_count": 55,
   "metadata": {
    "collapsed": true
   },
   "outputs": [],
   "source": [
    "f = np.zeros(5)\n",
    "f[0] = 1\n",
    "g = np.zeros(5)\n",
    "g[0] = 0.9\n",
    "g[1] = 0.1"
   ]
  },
  {
   "cell_type": "code",
   "execution_count": 56,
   "metadata": {
    "collapsed": false
   },
   "outputs": [
    {
     "data": {
      "text/plain": [
       "array([ 0.9,  0.1,  0. ,  0. ,  0. ])"
      ]
     },
     "execution_count": 56,
     "metadata": {},
     "output_type": "execute_result"
    }
   ],
   "source": [
    "conv(f,g)"
   ]
  },
  {
   "cell_type": "markdown",
   "metadata": {},
   "source": [
    "## Prevent code from being executed more often than needed"
   ]
  },
  {
   "cell_type": "code",
   "execution_count": 42,
   "metadata": {
    "collapsed": true
   },
   "outputs": [],
   "source": [
    "def assimilatearrays(f,g):          # füllt kürzeren Vektor mit Nullen auf\n",
    "    if len(g)<len(f):\n",
    "        G=np.zeros(len(f))\n",
    "#         for i in range(len(g)):\n",
    "#             G[i]=g[i]\n",
    "        G[0:len(g)] = g # this line does the same as the one before!\n",
    "        F=f\n",
    "        return F, G\n",
    "    else:\n",
    "        F=np.zeros(len(g))\n",
    "        for i in range(len(f)):\n",
    "            F[i]=f[i]\n",
    "        G=g\n",
    "        return F,G\n",
    "\n",
    "def convolution(f,g):           # Faltung zweier Vektoren gleicher Dimension\n",
    "    N=len(assimilatearrays(f,g)[0])   \n",
    "    s=np.zeros(N)\n",
    "    conv=np.zeros(N)\n",
    "    for n in range(N):\n",
    "        for i in range(N):\n",
    "            s[i]=assimilatearrays(f,g)[0][i]*assimilatearrays(f,g)[1][n-i]\n",
    "        conv[n]=sum(s)\n",
    "    return conv"
   ]
  },
  {
   "cell_type": "code",
   "execution_count": 46,
   "metadata": {
    "collapsed": false
   },
   "outputs": [],
   "source": [
    "f = np.zeros(10**3)\n",
    "f[0] = 1\n",
    "g = np.zeros(10**2)\n",
    "g[0:2] = 0.9, 0.1"
   ]
  },
  {
   "cell_type": "code",
   "execution_count": 47,
   "metadata": {
    "collapsed": false
   },
   "outputs": [
    {
     "name": "stdout",
     "output_type": "stream",
     "text": [
      "1 loops, best of 3: 36.8 s per loop\n"
     ]
    }
   ],
   "source": [
    "%timeit convolution(f,g)"
   ]
  },
  {
   "cell_type": "code",
   "execution_count": 48,
   "metadata": {
    "collapsed": true
   },
   "outputs": [],
   "source": [
    "def convolutionAssimilateOnce(f,g):           # Faltung zweier Vektoren gleicher Dimension\n",
    "    F, G = assimilatearrays(f,g)\n",
    "    N=len(F)   \n",
    "    s=np.zeros(N)\n",
    "    conv=np.zeros(N)\n",
    "    for n in range(N):\n",
    "        for i in range(N):\n",
    "            s[i]=F[i]*G[n-i]\n",
    "        conv[n]=sum(s)\n",
    "    return conv"
   ]
  },
  {
   "cell_type": "code",
   "execution_count": 49,
   "metadata": {
    "collapsed": false
   },
   "outputs": [
    {
     "name": "stdout",
     "output_type": "stream",
     "text": [
      "1 loops, best of 3: 437 ms per loop\n"
     ]
    }
   ],
   "source": [
    "%timeit convolutionAssimilateOnce(f,g)"
   ]
  },
  {
   "cell_type": "markdown",
   "metadata": {},
   "source": [
    "What happened here? ```assimilatearrays``` was called 2 \\* 1000 \\* 1000 + 1 times instead of just once!"
   ]
  },
  {
   "cell_type": "code",
   "execution_count": null,
   "metadata": {
    "collapsed": true
   },
   "outputs": [],
   "source": []
  }
 ],
 "metadata": {
  "kernelspec": {
   "display_name": "Python 3",
   "language": "python",
   "name": "python3"
  },
  "language_info": {
   "codemirror_mode": {
    "name": "ipython",
    "version": 3
   },
   "file_extension": ".py",
   "mimetype": "text/x-python",
   "name": "python",
   "nbconvert_exporter": "python",
   "pygments_lexer": "ipython3",
   "version": "3.5.1"
  }
 },
 "nbformat": 4,
 "nbformat_minor": 0
}
