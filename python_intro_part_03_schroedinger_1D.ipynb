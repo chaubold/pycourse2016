{
 "cells": [
  {
   "cell_type": "markdown",
   "metadata": {},
   "source": [
    "# Case study: integrating 1D Schroedinger equation over time"
   ]
  },
  {
   "cell_type": "markdown",
   "metadata": {},
   "source": [
    "## Goal\n",
    "Invent a potential, create a wave packet, watch it evolve (and tunnel) under the time-dependent Schroedinger equation. "
   ]
  },
  {
   "cell_type": "markdown",
   "metadata": {},
   "source": [
    "## Physics\n",
    "\n",
    "Time-dependent Schroedinger equation in 1D\n",
    "\\begin{equation*}\n",
    "i\\hbar \\frac{\\partial \\Psi(x, t)}{\\partial t} \n",
    "= - \\frac{\\hbar^2}{2m}\\frac{\\partial^2\\Psi(x, t)}{\\partial x^2} + V(x)\\Psi(x, t)\\qquad x, t\\in\\mathbb{R}\n",
    "\\end{equation*}\n",
    "\n",
    "Separating real and imaginary part, omitting constants, discretizing in space and time (naively) gives \n",
    "\n",
    "\\begin{align*}\n",
    "\\frac{\n",
    "\\Psi_i(x, t + \\varDelta t) - \\Psi_i (x, t) \n",
    "}{\\varDelta t} &= \\frac{1}{2}\n",
    "\\Psi_r(x, t)\\ast [1, -2, 1] - V(x)\\Psi_r(x, t) \\qquad x\\in \\mathbb{N}, t\\in\\mathbb{R} \\\\\n",
    "\\frac{\n",
    "\\Psi_r(x, t + \\varDelta t) - \\Psi_r (x, t) \n",
    "}{\\varDelta t} &= - \\frac{1}{2}\n",
    "\\Psi_i(x, t)\\ast [1, -2, 1] + V(x)\\Psi_i(x, t) \\qquad x\\in \\mathbb{N}, t\\in\\mathbb{R}\n",
    "\\end{align*}\n",
    "where $\\Psi_r$ and $\\Psi_i$ are the real and imaginary parts of $\\Psi$, respectively. \n",
    "\n",
    "This is the simplest possible discretization. This \"forward time difference\" method is easiest to understand, but behaves poorly for all but the smallest $\\varDelta t$. A better integration scheme is the Leapfrog algorithm (e.g. http://helium.bradley.edu/PICUP/doc/tdse/Numerical_Strategy.pdf). "
   ]
  },
  {
   "cell_type": "markdown",
   "metadata": {},
   "source": [
    "## Step by step\n",
    "\n",
    "1. The potential\n",
    "    * Write a function that returns a vector (a 1D numpy array) holding a parabola. The parabola should be centered in the middle of your vector. The function should take the curvature of the parabola and the length of the vector as arguments. Plot an example result. \n",
    "    * Write a function that returns a parametric potential landscape. I recommend zero potential in most places, and barriers and valleys with a height or depth of ~1/10. The sole argument to the function should be the spatial resolution. I have created something like this: <img src=\"example_potential.png\" width=\"400\">Plot an example result. \n",
    "2. The wave packet\n",
    "    * Write a function that returns a complex sinusoid, modulated by a Gaussian, that is, $$(cos(2\\pi kx) + i sin(2\\pi kx))\\exp(-(x-\\mu)^2/2/\\sigma^2)$$The function should take the following arguments: number of discretization points; and location, standard deviation relative to your potential landscape (that is, $\\in[0, 1]$); and the wave number $k$. You may ignore normalization constants. While numpy understands complex numbers, I have preferred to explicitly represent the real and imaginary parts.  Plot an example result. \n",
    "3. Integrating the TDSE\n",
    "    * Really, it's just a loop and two lines of code. Use circular convolution to let your wave packet live on a ring. I have used the following parameters: $\\sigma \\sim0.02, k < 30$, spatial resolution $> 400, $ time step $<1/2$. \n",
    "    * Store all intermediate results, make suitable plots of the temporal evolution. \n",
    "    * Marvel at visual quantum mechanics, implemented all by yourself! \n",
    "    * Repeat with different potential. \n",
    "    * Now try and break it: see what happens when you make the temporal or spatial discretization too coarse, when you inject too much energy into the system, etc. "
   ]
  },
  {
   "cell_type": "markdown",
   "metadata": {},
   "source": [
    "## Hints\n",
    "* do not intersperse constants in your code. Instead, define constants in the header of your script, or pass them as arguments to functions.\n",
    "* use periodic boundary conditions like so: \n",
    "```\n",
    "ndimage.filters.convolve1d(..., ..., mode='wrap')\n",
    "```\n",
    "* to create an animation, I used\n",
    "```\n",
    "fig = plt.figure()\n",
    "ax = fig.add_subplot(111)\n",
    "for t in range(number_of_steps):\n",
    "    print(t)\n",
    "    ax.clear()\n",
    "    ax.set_xlim(0, n)\n",
    "    ax.set_ylim(-1, 1)\n",
    "    ax.plot(pot)\n",
    "    \n",
    "    < update wave packet > \n",
    "    \n",
    "    ax.plot(wpr, '-b')\n",
    "    ax.plot(wpi, '-r')\n",
    "    ax.figure.canvas.draw()\n",
    "    plt.pause(0.001) # deprecated; but if omitted, plotting stalls on windows machine\n",
    "```\n",
    "* for debugging purposes, the variable explorer (top right corner in spyder) is immensely useful. \n",
    "* Try the debug mode `(Ctrl-F5)`. In the ipython console, type `?` for a list of options, or `n` to execute the next line. See how the variable explorer becomes populated as you step through your program, and how the values assigned to variables change. Note you can double-click on arrays in the variable explorer. "
   ]
  }
 ],
 "metadata": {
  "kernelspec": {
   "display_name": "Python 3",
   "language": "python",
   "name": "python3"
  },
  "language_info": {
   "codemirror_mode": {
    "name": "ipython",
    "version": 3
   },
   "file_extension": ".py",
   "mimetype": "text/x-python",
   "name": "python",
   "nbconvert_exporter": "python",
   "pygments_lexer": "ipython3",
   "version": "3.5.1"
  }
 },
 "nbformat": 4,
 "nbformat_minor": 0
}
