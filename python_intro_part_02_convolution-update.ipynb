{
 "cells": [
  {
   "cell_type": "markdown",
   "metadata": {},
   "source": [
    "# Convolution, and drunk but stubborn random walkers\n",
    "\n",
    "Let's review some of what you saw yesterday. \n",
    "\n",
    "A circular discrete convolution is useful for processing signals that live on a ring. If $f$ and $g$ are both of period $N$, the following definition works (choice of origin is arbitrary): "
   ]
  },
  {
   "cell_type": "markdown",
   "metadata": {
    "collapsed": true
   },
   "source": [
    "\\begin{align}\n",
    "(f * g)[n] &= \\sum_{m=0}^{N-1} f[m]\\ g[n-m] \\qquad \\forall n\\in\\{0, \\ldots, N-1\\}\n",
    "\\end{align}"
   ]
  },
  {
   "cell_type": "markdown",
   "metadata": {
    "collapsed": true
   },
   "source": [
    "numpy arrays can interpret negative indices: $g[-1]\\equiv g[N]$, so we don't need to take extra precautions when implementing the above formula for same-length sequences. \n",
    "* Implement a function for 1D circular convolution that accepts two sequences $f, g$ of equal length as input. \n",
    "    * Check its output by hand for a small toy example. Compare to the output of `scipy.ndimage.convolve.1d`\n",
    "    * Study a biased random walker using your convolution function. The random walker starts at 0. At each step, she stays in the same place with a probability of $1-p$ (e.g. 0.9), and makes a single step to the right with a probability of $p$ (e.g. 0.1). Plot the distribution after $T=1, 2, 3, 4, 5, 10, 20$ steps. Do you know the closed-form expression for these distributions?  \n",
    "    * Time your convolution function for inputs of length 10000. Compare to the timings you found yesterday when calling `np.dot` as well as to the scipy convolution implementation. \n",
    "    * What is the computational complexity of your implementation? \n",
    "    * Do you think it is possible to implement a convolution with lower computational complexity? \n",
    "* Implement a function for 1D circular convolution that accepts two sequences $f, g$ as input where $f$ is shorter than $g$. \n",
    "* Implememt a function for 1D circular convolution that accepts two sequences $f, g$ of as input, where $f$ can be shorter, same length, or longer than $g$. \n",
    "* Try and make your function robust to wrong / illegal input. You get full credit if Carsten or Fred can't break it :-) "
   ]
  }
 ],
 "metadata": {
  "kernelspec": {
   "display_name": "Python 3",
   "language": "python",
   "name": "python3"
  },
  "language_info": {
   "codemirror_mode": {
    "name": "ipython",
    "version": 3
   },
   "file_extension": ".py",
   "mimetype": "text/x-python",
   "name": "python",
   "nbconvert_exporter": "python",
   "pygments_lexer": "ipython3",
   "version": "3.5.1"
  }
 },
 "nbformat": 4,
 "nbformat_minor": 0
}
