{
 "cells": [
  {
   "cell_type": "markdown",
   "metadata": {},
   "source": [
    "Let's look at a couple of things we saw yesterday:\n",
    "\n",
    "### Numpy"
   ]
  },
  {
   "cell_type": "code",
   "execution_count": 4,
   "metadata": {
    "collapsed": false
   },
   "outputs": [
    {
     "name": "stdout",
     "output_type": "stream",
     "text": [
      "[[   0.    0.    0.    0.    0.]\n",
      " [   0.    0.    0.    0.    0.]\n",
      " [   0.    0.    0.    0.    0.]\n",
      " [   0.    0.  100.    0.    0.]\n",
      " [   0.    0.    0.    0.    0.]]\n"
     ]
    }
   ],
   "source": [
    "import numpy as np # importing a module with an alias\n",
    "\n",
    "# create a 2 dimensional array, size per dimension in a tuple \n",
    "# (here 10 rows, 20 columns), and fill it with zeros\n",
    "a = np.zeros( (10,20) )\n",
    "\n",
    "# access a single position in a 2D array:\n",
    "a[3, 5] = 100 # row 3, column 5\n",
    "\n",
    "# look at a submatrix of a around that point: use begin:end for a range\n",
    "print(a[0:5,3:8]) # beginning index is inclusive, ending index exclusive"
   ]
  },
  {
   "cell_type": "markdown",
   "metadata": {},
   "source": [
    "### Matplotlib"
   ]
  },
  {
   "cell_type": "code",
   "execution_count": 8,
   "metadata": {
    "collapsed": false
   },
   "outputs": [
    {
     "data": {
      "text/plain": [
       "[<matplotlib.lines.Line2D at 0x10b147198>]"
      ]
     },
     "execution_count": 8,
     "metadata": {},
     "output_type": "execute_result"
    },
    {
     "data": {
      "image/png": "[encoded data removed]",
      "text/plain": [
       "<matplotlib.figure.Figure at 0x10d7f2dd8>"
      ]
     },
     "metadata": {},
     "output_type": "display_data"
    }
   ],
   "source": [
    "import matplotlib.pyplot as plt # import plotting module\n",
    "# ignore this\n",
    "%matplotlib inline \n",
    "\n",
    "line = np.arange(10) # define a range from 0 to 9 as numpy array\n",
    "line2 = line * 2 # define a second range with twice the incline\n",
    "\n",
    "plt.plot(line) # plot the line (uses the given values as y's, assumes corresponding x values to be 0,1,2,...)\n",
    "plt.plot(line2)"
   ]
  },
  {
   "cell_type": "code",
   "execution_count": 9,
   "metadata": {
    "collapsed": false
   },
   "outputs": [
    {
     "data": {
      "text/plain": [
       "[<matplotlib.lines.Line2D at 0x111b789e8>]"
      ]
     },
     "execution_count": 9,
     "metadata": {},
     "output_type": "execute_result"
    },
    {
     "data": {
      "image/png": "[encoded data removed]",
      "text/plain": [
       "<matplotlib.figure.Figure at 0x10baa46d8>"
      ]
     },
     "metadata": {},
     "output_type": "display_data"
    },
    {
     "data": {
      "image/png": "[encoded data removed]",
      "text/plain": [
       "<matplotlib.figure.Figure at 0x10baa4080>"
      ]
     },
     "metadata": {},
     "output_type": "display_data"
    }
   ],
   "source": [
    "# force both to be in different plots:\n",
    "plt.plot(line)\n",
    "plt.figure() # force it to do a new plot\n",
    "plt.plot(line2)"
   ]
  },
  {
   "cell_type": "markdown",
   "metadata": {},
   "source": [
    "#### Further important matplotlib features: axis labeling"
   ]
  },
  {
   "cell_type": "code",
   "execution_count": 33,
   "metadata": {
    "collapsed": false
   },
   "outputs": [
    {
     "data": {
      "text/plain": [
       "<matplotlib.text.Text at 0x112214160>"
      ]
     },
     "execution_count": 33,
     "metadata": {},
     "output_type": "execute_result"
    },
    {
     "data": {
      "image/png": "[encoded data removed]",
      "text/plain": [
       "<matplotlib.figure.Figure at 0x112210c50>"
      ]
     },
     "metadata": {},
     "output_type": "display_data"
    }
   ],
   "source": [
    "plt.plot(line)\n",
    "plt.title('My Bank Account')\n",
    "plt.xlabel('Time $\\Delta t$') # you can use Latex math inside any string in Matplotlib!\n",
    "plt.ylabel('Money')"
   ]
  },
  {
   "cell_type": "markdown",
   "metadata": {},
   "source": [
    "### Defining Functions and their Return values"
   ]
  },
  {
   "cell_type": "code",
   "execution_count": 13,
   "metadata": {
    "collapsed": false
   },
   "outputs": [
    {
     "data": {
      "text/plain": [
       "8"
      ]
     },
     "execution_count": 13,
     "metadata": {},
     "output_type": "execute_result"
    }
   ],
   "source": [
    "# 'def' starts function definition, absolute is the name, (x) is the single parameter\n",
    "def absolute(x):\n",
    "    if x < 0:\n",
    "        return -x # return a single value\n",
    "    else:\n",
    "        return x\n",
    "\n",
    "# call function absolute with one parameter (-8) \n",
    "# and store the returned value (-x=8) in the variable r\n",
    "r = absolute(-8)\n",
    "print(r)"
   ]
  },
  {
   "cell_type": "code",
   "execution_count": 14,
   "metadata": {
    "collapsed": false
   },
   "outputs": [
    {
     "name": "stdout",
     "output_type": "stream",
     "text": [
      "2\n"
     ]
    }
   ],
   "source": [
    "# let's define a function that has more parameters\n",
    "def findSmallestElement(a,b,c):\n",
    "    if a <= b and a <= c:\n",
    "        return a\n",
    "    elif b <= a and b <= c:\n",
    "        return b\n",
    "    else:\n",
    "        return c\n",
    "\n",
    "# call with three arguments which were stored in variables\n",
    "x = 10\n",
    "y = 5\n",
    "z = 2\n",
    "# the values of x,y, and z will be known with the names a,b, and c inside the function\n",
    "smallest = findSmallestElement(x,y,z)\n",
    "print(smallest)"
   ]
  },
  {
   "cell_type": "code",
   "execution_count": 16,
   "metadata": {
    "collapsed": false
   },
   "outputs": [
    {
     "name": "stdout",
     "output_type": "stream",
     "text": [
      "(2, 1)\n",
      "2 1\n"
     ]
    }
   ],
   "source": [
    "# a function returning two values\n",
    "def divisionWithRemainder(a, b):\n",
    "    div = a // b # integer division!\n",
    "    remainder = a % b # modulo gives remainder of division\n",
    "    return div, remainder\n",
    "\n",
    "print(divisionWithRemainder(5,2))\n",
    "\n",
    "# split up the 2-tuple of return values into two variables\n",
    "u, v = divisionWithRemainder(5,2)\n",
    "print(u,v)"
   ]
  },
  {
   "cell_type": "code",
   "execution_count": 24,
   "metadata": {
    "collapsed": false
   },
   "outputs": [
    {
     "ename": "SyntaxError",
     "evalue": "positional argument follows keyword argument (<ipython-input-24-10e627d7d194>, line 15)",
     "output_type": "error",
     "traceback": [
      "\u001b[0;36m  File \u001b[0;32m\"<ipython-input-24-10e627d7d194>\"\u001b[0;36m, line \u001b[0;32m15\u001b[0m\n\u001b[0;31m    power(exp=3, 2)\u001b[0m\n\u001b[0m                ^\u001b[0m\n\u001b[0;31mSyntaxError\u001b[0m\u001b[0;31m:\u001b[0m positional argument follows keyword argument\n"
     ]
    }
   ],
   "source": [
    "# NEW: a function with a default argument:\n",
    "def power(x, exp=2):\n",
    "    return x**exp # = x ^ exp\n",
    "\n",
    "print(power(2)) # using default argument\n",
    "print(power(2,4)) # specify exponent on our own\n",
    "print(power(x=2, exp=5)) # adress parameters by name (called \"keyword argument\")\n",
    "print(power(exp=5, x=2)) # when parameters are adressed by name, you can switch the order\n",
    "\n",
    "# when only giving the names of some parameters, \n",
    "# the ones without names need to go in front in the proper order!\n",
    "print(power(2, exp=3))\n",
    "\n",
    "# this will not work:\n",
    "power(exp=3, 2)"
   ]
  },
  {
   "cell_type": "markdown",
   "metadata": {},
   "source": [
    "### Variable types\n",
    "We've not mentioned two things yesterday:"
   ]
  },
  {
   "cell_type": "code",
   "execution_count": 27,
   "metadata": {
    "collapsed": false
   },
   "outputs": [
    {
     "name": "stdout",
     "output_type": "stream",
     "text": [
      "True\n",
      "False\n"
     ]
    }
   ],
   "source": [
    "# boolean types can represent truth values\n",
    "y = True\n",
    "n = False\n",
    "print(y and y) # True and True -> True\n",
    "print(y and n) # True and False -> False"
   ]
  },
  {
   "cell_type": "code",
   "execution_count": 29,
   "metadata": {
    "collapsed": false
   },
   "outputs": [
    {
     "name": "stdout",
     "output_type": "stream",
     "text": [
      "True\n"
     ]
    }
   ],
   "source": [
    "# conditions return boolean values!\n",
    "x = 0\n",
    "conditionResult = x == 0\n",
    "print(conditionResult)"
   ]
  },
  {
   "cell_type": "code",
   "execution_count": 31,
   "metadata": {
    "collapsed": false
   },
   "outputs": [
    {
     "name": "stdout",
     "output_type": "stream",
     "text": [
      "False\n"
     ]
    }
   ],
   "source": [
    "# default value meaning \"there is no proper value for this variable yet\"\n",
    "a = None\n",
    "\n",
    "# comparisons with None always return False\n",
    "print(a == 1)"
   ]
  },
  {
   "cell_type": "code",
   "execution_count": 32,
   "metadata": {
    "collapsed": false
   },
   "outputs": [
    {
     "name": "stdout",
     "output_type": "stream",
     "text": [
      "Is none!\n"
     ]
    }
   ],
   "source": [
    "# check whether a variable is None:\n",
    "if a is None:\n",
    "    print('Is none!')\n",
    "else:\n",
    "    print('Not none')"
   ]
  },
  {
   "cell_type": "code",
   "execution_count": null,
   "metadata": {
    "collapsed": true
   },
   "outputs": [],
   "source": []
  }
 ],
 "metadata": {
  "kernelspec": {
   "display_name": "Python 3",
   "language": "python",
   "name": "python3"
  },
  "language_info": {
   "codemirror_mode": {
    "name": "ipython",
    "version": 3
   },
   "file_extension": ".py",
   "mimetype": "text/x-python",
   "name": "python",
   "nbconvert_exporter": "python",
   "pygments_lexer": "ipython3",
   "version": "3.5.1"
  }
 },
 "nbformat": 4,
 "nbformat_minor": 0
}
